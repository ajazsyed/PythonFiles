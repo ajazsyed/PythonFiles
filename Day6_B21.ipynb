{
 "cells": [
  {
   "cell_type": "code",
   "execution_count": null,
   "metadata": {},
   "outputs": [],
   "source": [
    "# General syntac of FOR LOOP\n",
    "\n",
    "for tempvariable in mainvariable:\n",
    "    print(tempvariabel)\n"
   ]
  },
  {
   "cell_type": "code",
   "execution_count": 1,
   "metadata": {},
   "outputs": [],
   "source": [
    "auc = ['fariyaz', 'syed', 'afnan', 'yousuf', 'ajaz']"
   ]
  },
  {
   "cell_type": "code",
   "execution_count": 2,
   "metadata": {},
   "outputs": [
    {
     "name": "stdout",
     "output_type": "stream",
     "text": [
      "['fariyaz', 'syed', 'afnan', 'yousuf', 'ajaz']\n"
     ]
    }
   ],
   "source": [
    "print(auc)"
   ]
  },
  {
   "cell_type": "code",
   "execution_count": null,
   "metadata": {},
   "outputs": [],
   "source": [
    "# Requirement \n",
    "# 1. Appreciating all the above for sending files.\n",
    "# 2. I also want to tell them i would be looking forward to receive their files today"
   ]
  },
  {
   "cell_type": "code",
   "execution_count": null,
   "metadata": {},
   "outputs": [],
   "source": [
    "# it will be iterating through the list and wil split them out pf the list."
   ]
  },
  {
   "cell_type": "code",
   "execution_count": 4,
   "metadata": {},
   "outputs": [
    {
     "name": "stdout",
     "output_type": "stream",
     "text": [
      "fariyaz\n",
      "syed\n",
      "afnan\n",
      "yousuf\n",
      "ajaz\n"
     ]
    }
   ],
   "source": [
    "for random in auc:\n",
    "    print(random)"
   ]
  },
  {
   "cell_type": "code",
   "execution_count": 8,
   "metadata": {},
   "outputs": [
    {
     "name": "stdout",
     "output_type": "stream",
     "text": [
      "keep up good work, Fariyaz\n",
      "i am looking forward to receive your fils of today, Fariyaz\n",
      "keep up good work, Syed\n",
      "i am looking forward to receive your fils of today, Syed\n",
      "keep up good work, Afnan\n",
      "i am looking forward to receive your fils of today, Afnan\n",
      "keep up good work, Yousuf\n",
      "i am looking forward to receive your fils of today, Yousuf\n",
      "keep up good work, Ajaz\n",
      "i am looking forward to receive your fils of today, Ajaz\n"
     ]
    }
   ],
   "source": [
    "# Enchancement of the code: f string\n",
    "\n",
    "for random in auc:\n",
    "    print(f\"keep up good work, {random.title()}\")\n",
    "    print(f\"i am looking forward to receive your fils of today, {random.title()}\")"
   ]
  },
  {
   "cell_type": "code",
   "execution_count": 9,
   "metadata": {},
   "outputs": [
    {
     "name": "stdout",
     "output_type": "stream",
     "text": [
      "keep up good work, Fariyaz\n",
      "i am looking forward to receive your fils of today, Fariyaz\n",
      "\n",
      "keep up good work, Syed\n",
      "i am looking forward to receive your fils of today, Syed\n",
      "\n",
      "keep up good work, Afnan\n",
      "i am looking forward to receive your fils of today, Afnan\n",
      "\n",
      "keep up good work, Yousuf\n",
      "i am looking forward to receive your fils of today, Yousuf\n",
      "\n",
      "keep up good work, Ajaz\n",
      "i am looking forward to receive your fils of today, Ajaz\n",
      "\n"
     ]
    }
   ],
   "source": [
    "# Better presentation then above\n",
    "\n",
    "for random in auc:\n",
    "    print(f\"keep up good work, {random.title()}\")\n",
    "    print(f\"i am looking forward to receive your fils of today, {random.title()}\\n\")"
   ]
  },
  {
   "cell_type": "code",
   "execution_count": null,
   "metadata": {},
   "outputs": [],
   "source": [
    "# Req: 3\n",
    "# Generic message to all the participants:\n",
    "# Message is below\n",
    "\n",
    "'Thank you all for joining in the python sessions'"
   ]
  },
  {
   "cell_type": "code",
   "execution_count": 11,
   "metadata": {},
   "outputs": [
    {
     "name": "stdout",
     "output_type": "stream",
     "text": [
      "keep up good work, Fariyaz\n",
      "i am looking forward to receive your fils of today, Fariyaz\n",
      "\n",
      "keep up good work, Syed\n",
      "i am looking forward to receive your fils of today, Syed\n",
      "\n",
      "keep up good work, Afnan\n",
      "i am looking forward to receive your fils of today, Afnan\n",
      "\n",
      "keep up good work, Yousuf\n",
      "i am looking forward to receive your fils of today, Yousuf\n",
      "\n",
      "keep up good work, Ajaz\n",
      "i am looking forward to receive your fils of today, Ajaz\n",
      "\n",
      "Thank you all for joining in the python sessions\n"
     ]
    }
   ],
   "source": [
    "for random in auc:\n",
    "    print(f\"keep up good work, {random.title()}\")\n",
    "    print(f\"i am looking forward to receive your fils of today, {random.title()}\\n\")\n",
    "    \n",
    "print('Thank you all for joining in the python sessions')"
   ]
  },
  {
   "cell_type": "code",
   "execution_count": null,
   "metadata": {},
   "outputs": [],
   "source": [
    "# Introdcution to IF and ELSE conditions:\n",
    "\n",
    "# if-else block\n",
    "\n",
    "if x (condition block):\n",
    "    print\n",
    "else:\n",
    "    print\n",
    "\n"
   ]
  },
  {
   "cell_type": "code",
   "execution_count": 13,
   "metadata": {},
   "outputs": [],
   "source": [
    "my_friends = ['afnan', 'syed', 'fariyaz', 'yousuf', 'shiekh', 'ajaz']"
   ]
  },
  {
   "cell_type": "raw",
   "metadata": {},
   "source": []
  },
  {
   "cell_type": "code",
   "execution_count": null,
   "metadata": {},
   "outputs": [],
   "source": [
    "# Req: FARIUAZ is coming -- > i want to print the name in capital letters\n",
    "\n",
    "# Req: for all others friends except fariyaz -->i want to print in title case"
   ]
  },
  {
   "cell_type": "code",
   "execution_count": 15,
   "metadata": {},
   "outputs": [
    {
     "name": "stdout",
     "output_type": "stream",
     "text": [
      "Afnan\n",
      "Syed\n",
      "FARIYAZ\n",
      "Yousuf\n",
      "Shiekh\n",
      "Ajaz\n"
     ]
    }
   ],
   "source": [
    "for x in my_friends:\n",
    "    if x == 'fariyaz': # applying the comparision operator ==\n",
    "        print(x.upper())\n",
    "    else:\n",
    "        print(x.title())"
   ]
  },
  {
   "cell_type": "code",
   "execution_count": null,
   "metadata": {},
   "outputs": [],
   "source": []
  },
  {
   "cell_type": "code",
   "execution_count": null,
   "metadata": {},
   "outputs": [],
   "source": [
    "# Introduction to slicing of list"
   ]
  },
  {
   "cell_type": "code",
   "execution_count": 24,
   "metadata": {},
   "outputs": [],
   "source": [
    "my_dudes = ['afnan', 'syed', 'fariyaz', 'yousuf', 'shiekh', 'ajaz']"
   ]
  },
  {
   "cell_type": "code",
   "execution_count": 16,
   "metadata": {},
   "outputs": [],
   "source": [
    "# General syntax of slicing ===> mainvar{startvalue:stopvalue:stepcount] # totally based up on the indexing"
   ]
  },
  {
   "cell_type": "code",
   "execution_count": null,
   "metadata": {},
   "outputs": [],
   "source": [
    "# Req: wanted to include abdul and mubeen in a single group\n",
    "\n",
    "# last value is always exlucsive"
   ]
  },
  {
   "cell_type": "code",
   "execution_count": 25,
   "metadata": {},
   "outputs": [
    {
     "name": "stdout",
     "output_type": "stream",
     "text": [
      "['afnan']\n"
     ]
    }
   ],
   "source": [
    "print(my_dudes[0:1])"
   ]
  },
  {
   "cell_type": "code",
   "execution_count": 29,
   "metadata": {},
   "outputs": [
    {
     "name": "stdout",
     "output_type": "stream",
     "text": [
      "['fariyaz', 'yousuf', 'shiekh']\n"
     ]
    }
   ],
   "source": [
    "print(my_dudes[2:5])"
   ]
  },
  {
   "cell_type": "code",
   "execution_count": null,
   "metadata": {},
   "outputs": [],
   "source": []
  },
  {
   "cell_type": "code",
   "execution_count": null,
   "metadata": {},
   "outputs": [],
   "source": []
  },
  {
   "cell_type": "code",
   "execution_count": null,
   "metadata": {},
   "outputs": [],
   "source": []
  }
 ],
 "metadata": {
  "kernelspec": {
   "display_name": "Python 3",
   "language": "python",
   "name": "python3"
  },
  "language_info": {
   "codemirror_mode": {
    "name": "ipython",
    "version": 3
   },
   "file_extension": ".py",
   "mimetype": "text/x-python",
   "name": "python",
   "nbconvert_exporter": "python",
   "pygments_lexer": "ipython3",
   "version": "3.7.6"
  }
 },
 "nbformat": 4,
 "nbformat_minor": 4
}
